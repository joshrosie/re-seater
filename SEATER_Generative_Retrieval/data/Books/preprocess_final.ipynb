{
 "cells": [
  {
   "cell_type": "code",
   "execution_count": 14,
   "metadata": {},
   "outputs": [],
   "source": [
    "test_read = open('./data/book_data/book_test.txt', 'r')\n",
    "test_lines = test_read.readlines()\n",
    "\n",
    "user_his = {}\n",
    "\n",
    "for line in test_lines:\n",
    "    uid, iid, ts = line.split(',')\n",
    "    uid, iid = int(uid), int(iid)\n",
    "    # print(uid, iid, ts)\n",
    "    # break\n",
    "    if uid not in user_his:\n",
    "        user_his[uid] = []\n",
    "    user_his[uid].append(iid)\n"
   ]
  },
  {
   "cell_type": "code",
   "execution_count": 15,
   "metadata": {},
   "outputs": [
    {
     "name": "stdout",
     "output_type": "stream",
     "text": [
      "Requirement already satisfied: pandas in /Users/polyanna/Programs/miniconda3/envs/ir_ass2/lib/python3.10/site-packages (2.2.3)\n",
      "Requirement already satisfied: numpy>=1.22.4 in /Users/polyanna/Programs/miniconda3/envs/ir_ass2/lib/python3.10/site-packages (from pandas) (2.2.6)\n",
      "Requirement already satisfied: python-dateutil>=2.8.2 in /Users/polyanna/Programs/miniconda3/envs/ir_ass2/lib/python3.10/site-packages (from pandas) (2.9.0.post0)\n",
      "Requirement already satisfied: pytz>=2020.1 in /Users/polyanna/Programs/miniconda3/envs/ir_ass2/lib/python3.10/site-packages (from pandas) (2025.2)\n",
      "Requirement already satisfied: tzdata>=2022.7 in /Users/polyanna/Programs/miniconda3/envs/ir_ass2/lib/python3.10/site-packages (from pandas) (2025.2)\n",
      "Requirement already satisfied: six>=1.5 in /Users/polyanna/Programs/miniconda3/envs/ir_ass2/lib/python3.10/site-packages (from python-dateutil>=2.8.2->pandas) (1.17.0)\n"
     ]
    }
   ],
   "source": [
    "!pip install pandas"
   ]
  },
  {
   "cell_type": "code",
   "execution_count": 16,
   "metadata": {},
   "outputs": [],
   "source": [
    "import pandas as pd\n",
    "import numpy as np\n",
    "\n",
    "uid_ls = [k for k,v in user_his.items()]\n",
    "u_his_ls = [v for k,v in user_his.items()]\n",
    "\n",
    "test_data = pd.DataFrame(\n",
    "    data = zip(uid_ls, u_his_ls), columns=['user_id','user_history']\n",
    ")"
   ]
  },
  {
   "cell_type": "code",
   "execution_count": 17,
   "metadata": {},
   "outputs": [
    {
     "data": {
      "text/html": [
       "<div>\n",
       "<style scoped>\n",
       "    .dataframe tbody tr th:only-of-type {\n",
       "        vertical-align: middle;\n",
       "    }\n",
       "\n",
       "    .dataframe tbody tr th {\n",
       "        vertical-align: top;\n",
       "    }\n",
       "\n",
       "    .dataframe thead th {\n",
       "        text-align: right;\n",
       "    }\n",
       "</style>\n",
       "<table border=\"1\" class=\"dataframe\">\n",
       "  <thead>\n",
       "    <tr style=\"text-align: right;\">\n",
       "      <th></th>\n",
       "      <th>user_id</th>\n",
       "      <th>user_history</th>\n",
       "    </tr>\n",
       "  </thead>\n",
       "  <tbody>\n",
       "    <tr>\n",
       "      <th>0</th>\n",
       "      <td>543301</td>\n",
       "      <td>[1, 713, 482, 149, 145370, 226973]</td>\n",
       "    </tr>\n",
       "    <tr>\n",
       "      <th>1</th>\n",
       "      <td>543302</td>\n",
       "      <td>[263, 8401, 80, 921, 1132, 5999, 15156, 1290, ...</td>\n",
       "    </tr>\n",
       "    <tr>\n",
       "      <th>2</th>\n",
       "      <td>543303</td>\n",
       "      <td>[3695, 47970, 23644, 15754, 81064, 619]</td>\n",
       "    </tr>\n",
       "    <tr>\n",
       "      <th>3</th>\n",
       "      <td>543304</td>\n",
       "      <td>[964, 22461, 1400, 5289, 323, 14868, 46619, 65...</td>\n",
       "    </tr>\n",
       "    <tr>\n",
       "      <th>4</th>\n",
       "      <td>543305</td>\n",
       "      <td>[90399, 2860, 72894, 21401, 6075, 3572, 474]</td>\n",
       "    </tr>\n",
       "  </tbody>\n",
       "</table>\n",
       "</div>"
      ],
      "text/plain": [
       "   user_id                                       user_history\n",
       "0   543301                 [1, 713, 482, 149, 145370, 226973]\n",
       "1   543302  [263, 8401, 80, 921, 1132, 5999, 15156, 1290, ...\n",
       "2   543303            [3695, 47970, 23644, 15754, 81064, 619]\n",
       "3   543304  [964, 22461, 1400, 5289, 323, 14868, 46619, 65...\n",
       "4   543305       [90399, 2860, 72894, 21401, 6075, 3572, 474]"
      ]
     },
     "execution_count": 17,
     "metadata": {},
     "output_type": "execute_result"
    }
   ],
   "source": [
    "test_data.head()"
   ]
  },
  {
   "cell_type": "code",
   "execution_count": 18,
   "metadata": {},
   "outputs": [],
   "source": [
    "test_data['given_user_history'] = test_data['user_history'].apply(\n",
    "    lambda x:\n",
    "        x[:int(0.8*len(x))] \n",
    ")\n",
    "test_data['predicting_items'] = test_data['user_history'].apply(\n",
    "    lambda x:\n",
    "        x[int(0.8*len(x)):] \n",
    ")"
   ]
  },
  {
   "cell_type": "code",
   "execution_count": 19,
   "metadata": {},
   "outputs": [
    {
     "data": {
      "text/html": [
       "<div>\n",
       "<style scoped>\n",
       "    .dataframe tbody tr th:only-of-type {\n",
       "        vertical-align: middle;\n",
       "    }\n",
       "\n",
       "    .dataframe tbody tr th {\n",
       "        vertical-align: top;\n",
       "    }\n",
       "\n",
       "    .dataframe thead th {\n",
       "        text-align: right;\n",
       "    }\n",
       "</style>\n",
       "<table border=\"1\" class=\"dataframe\">\n",
       "  <thead>\n",
       "    <tr style=\"text-align: right;\">\n",
       "      <th></th>\n",
       "      <th>user_id</th>\n",
       "      <th>user_history</th>\n",
       "      <th>given_user_history</th>\n",
       "      <th>predicting_items</th>\n",
       "    </tr>\n",
       "  </thead>\n",
       "  <tbody>\n",
       "    <tr>\n",
       "      <th>0</th>\n",
       "      <td>543301</td>\n",
       "      <td>[1, 713, 482, 149, 145370, 226973]</td>\n",
       "      <td>[1, 713, 482, 149]</td>\n",
       "      <td>[145370, 226973]</td>\n",
       "    </tr>\n",
       "    <tr>\n",
       "      <th>1</th>\n",
       "      <td>543302</td>\n",
       "      <td>[263, 8401, 80, 921, 1132, 5999, 15156, 1290, ...</td>\n",
       "      <td>[263, 8401, 80, 921, 1132, 5999, 15156, 1290, ...</td>\n",
       "      <td>[825, 48282, 4959, 65858, 713, 72, 31, 17726, ...</td>\n",
       "    </tr>\n",
       "    <tr>\n",
       "      <th>2</th>\n",
       "      <td>543303</td>\n",
       "      <td>[3695, 47970, 23644, 15754, 81064, 619]</td>\n",
       "      <td>[3695, 47970, 23644, 15754]</td>\n",
       "      <td>[81064, 619]</td>\n",
       "    </tr>\n",
       "    <tr>\n",
       "      <th>3</th>\n",
       "      <td>543304</td>\n",
       "      <td>[964, 22461, 1400, 5289, 323, 14868, 46619, 65...</td>\n",
       "      <td>[964, 22461, 1400, 5289, 323, 14868, 46619, 65...</td>\n",
       "      <td>[22143, 5895, 12393, 12988, 71090, 3526, 17704...</td>\n",
       "    </tr>\n",
       "    <tr>\n",
       "      <th>4</th>\n",
       "      <td>543305</td>\n",
       "      <td>[90399, 2860, 72894, 21401, 6075, 3572, 474]</td>\n",
       "      <td>[90399, 2860, 72894, 21401, 6075]</td>\n",
       "      <td>[3572, 474]</td>\n",
       "    </tr>\n",
       "  </tbody>\n",
       "</table>\n",
       "</div>"
      ],
      "text/plain": [
       "   user_id                                       user_history  \\\n",
       "0   543301                 [1, 713, 482, 149, 145370, 226973]   \n",
       "1   543302  [263, 8401, 80, 921, 1132, 5999, 15156, 1290, ...   \n",
       "2   543303            [3695, 47970, 23644, 15754, 81064, 619]   \n",
       "3   543304  [964, 22461, 1400, 5289, 323, 14868, 46619, 65...   \n",
       "4   543305       [90399, 2860, 72894, 21401, 6075, 3572, 474]   \n",
       "\n",
       "                                  given_user_history  \\\n",
       "0                                 [1, 713, 482, 149]   \n",
       "1  [263, 8401, 80, 921, 1132, 5999, 15156, 1290, ...   \n",
       "2                        [3695, 47970, 23644, 15754]   \n",
       "3  [964, 22461, 1400, 5289, 323, 14868, 46619, 65...   \n",
       "4                  [90399, 2860, 72894, 21401, 6075]   \n",
       "\n",
       "                                    predicting_items  \n",
       "0                                   [145370, 226973]  \n",
       "1  [825, 48282, 4959, 65858, 713, 72, 31, 17726, ...  \n",
       "2                                       [81064, 619]  \n",
       "3  [22143, 5895, 12393, 12988, 71090, 3526, 17704...  \n",
       "4                                        [3572, 474]  "
      ]
     },
     "execution_count": 19,
     "metadata": {},
     "output_type": "execute_result"
    }
   ],
   "source": [
    "test_data.head()"
   ]
  },
  {
   "cell_type": "code",
   "execution_count": 20,
   "metadata": {},
   "outputs": [],
   "source": [
    "valid_read = open('./data/book_data/book_valid.txt', 'r')\n",
    "valid_lines = valid_read.readlines()\n",
    "\n",
    "user_his = {}\n",
    "\n",
    "for line in valid_lines:\n",
    "    uid, iid, ts = line.split(',')\n",
    "    uid, iid = int(uid), int(iid)\n",
    "    # print(uid, iid, ts)\n",
    "    # break\n",
    "    if uid not in user_his:\n",
    "        user_his[uid] = []\n",
    "    user_his[uid].append(iid)\n",
    "\n",
    "uid_ls = [k for k,v in user_his.items()]\n",
    "u_his_ls = [v for k,v in user_his.items()]\n",
    "\n",
    "valid_data = pd.DataFrame(\n",
    "    data = zip(uid_ls, u_his_ls), columns=['user_id','user_history']\n",
    ")\n",
    "\n",
    "valid_data['given_user_history'] = valid_data['user_history'].apply(\n",
    "    lambda x:\n",
    "        x[:int(0.8*len(x))] \n",
    ")\n",
    "valid_data['predicting_items'] = valid_data['user_history'].apply(\n",
    "    lambda x:\n",
    "        x[int(0.8*len(x)):] \n",
    ")"
   ]
  },
  {
   "cell_type": "code",
   "execution_count": 21,
   "metadata": {},
   "outputs": [
    {
     "data": {
      "text/html": [
       "<div>\n",
       "<style scoped>\n",
       "    .dataframe tbody tr th:only-of-type {\n",
       "        vertical-align: middle;\n",
       "    }\n",
       "\n",
       "    .dataframe tbody tr th {\n",
       "        vertical-align: top;\n",
       "    }\n",
       "\n",
       "    .dataframe thead th {\n",
       "        text-align: right;\n",
       "    }\n",
       "</style>\n",
       "<table border=\"1\" class=\"dataframe\">\n",
       "  <thead>\n",
       "    <tr style=\"text-align: right;\">\n",
       "      <th></th>\n",
       "      <th>user_id</th>\n",
       "      <th>user_history</th>\n",
       "      <th>given_user_history</th>\n",
       "      <th>predicting_items</th>\n",
       "    </tr>\n",
       "  </thead>\n",
       "  <tbody>\n",
       "    <tr>\n",
       "      <th>0</th>\n",
       "      <td>482934</td>\n",
       "      <td>[15554, 29666, 123531, 7845, 10726, 48700]</td>\n",
       "      <td>[15554, 29666, 123531, 7845]</td>\n",
       "      <td>[10726, 48700]</td>\n",
       "    </tr>\n",
       "    <tr>\n",
       "      <th>1</th>\n",
       "      <td>482935</td>\n",
       "      <td>[11476, 10832, 172, 22948, 457, 9268]</td>\n",
       "      <td>[11476, 10832, 172, 22948]</td>\n",
       "      <td>[457, 9268]</td>\n",
       "    </tr>\n",
       "    <tr>\n",
       "      <th>2</th>\n",
       "      <td>482936</td>\n",
       "      <td>[5175, 14966, 23142, 32202, 32203, 19912, 4103...</td>\n",
       "      <td>[5175, 14966, 23142, 32202, 32203, 19912, 4103...</td>\n",
       "      <td>[57177, 22266, 61335, 126551]</td>\n",
       "    </tr>\n",
       "    <tr>\n",
       "      <th>3</th>\n",
       "      <td>482937</td>\n",
       "      <td>[101967, 121040, 121074, 137867, 107717]</td>\n",
       "      <td>[101967, 121040, 121074, 137867]</td>\n",
       "      <td>[107717]</td>\n",
       "    </tr>\n",
       "    <tr>\n",
       "      <th>4</th>\n",
       "      <td>482938</td>\n",
       "      <td>[44, 585, 1308, 8477, 1077]</td>\n",
       "      <td>[44, 585, 1308, 8477]</td>\n",
       "      <td>[1077]</td>\n",
       "    </tr>\n",
       "  </tbody>\n",
       "</table>\n",
       "</div>"
      ],
      "text/plain": [
       "   user_id                                       user_history  \\\n",
       "0   482934         [15554, 29666, 123531, 7845, 10726, 48700]   \n",
       "1   482935              [11476, 10832, 172, 22948, 457, 9268]   \n",
       "2   482936  [5175, 14966, 23142, 32202, 32203, 19912, 4103...   \n",
       "3   482937           [101967, 121040, 121074, 137867, 107717]   \n",
       "4   482938                        [44, 585, 1308, 8477, 1077]   \n",
       "\n",
       "                                  given_user_history  \\\n",
       "0                       [15554, 29666, 123531, 7845]   \n",
       "1                         [11476, 10832, 172, 22948]   \n",
       "2  [5175, 14966, 23142, 32202, 32203, 19912, 4103...   \n",
       "3                   [101967, 121040, 121074, 137867]   \n",
       "4                              [44, 585, 1308, 8477]   \n",
       "\n",
       "                predicting_items  \n",
       "0                 [10726, 48700]  \n",
       "1                    [457, 9268]  \n",
       "2  [57177, 22266, 61335, 126551]  \n",
       "3                       [107717]  \n",
       "4                         [1077]  "
      ]
     },
     "execution_count": 21,
     "metadata": {},
     "output_type": "execute_result"
    }
   ],
   "source": [
    "valid_data.head()"
   ]
  },
  {
   "cell_type": "code",
   "execution_count": 22,
   "metadata": {},
   "outputs": [],
   "source": [
    "valid_data.drop(columns=['user_history']).to_csv(\n",
    "    './dataset/validation.tsv', sep='\\t', index=False\n",
    ")\n",
    "test_data.drop(columns=['user_history']).to_csv(\n",
    "    './dataset/test.tsv', sep='\\t', index=False\n",
    ")"
   ]
  },
  {
   "cell_type": "code",
   "execution_count": 24,
   "metadata": {},
   "outputs": [
    {
     "name": "stdout",
     "output_type": "stream",
     "text": [
      "   user_id                     user_history  next_item\n",
      "0        0                          [17978]        901\n",
      "1        0                     [17978, 901]      97224\n",
      "2        0              [17978, 901, 97224]        774\n",
      "3        0         [17978, 901, 97224, 774]      85757\n",
      "4        0  [17978, 901, 97224, 774, 85757]      74974\n"
     ]
    }
   ],
   "source": [
    "# Step 1: Load file and build user histories\n",
    "user_his = {}\n",
    "\n",
    "with open('./data/book_data/book_train.txt', 'r') as f:\n",
    "    for line in f:\n",
    "        uid, iid, ts = line.strip().split(',')\n",
    "        uid, iid = int(uid), int(iid)\n",
    "\n",
    "        if uid not in user_his:\n",
    "            user_his[uid] = []\n",
    "        user_his[uid].append(iid)\n",
    "\n",
    "# Step 2: Build autoregressive training samples\n",
    "records = []\n",
    "\n",
    "for uid, items in user_his.items():\n",
    "    for i in range(1, len(items)):\n",
    "        records.append({\n",
    "            \"user_id\": uid,\n",
    "            \"user_history\": items[:i],\n",
    "            \"next_item\": items[i]\n",
    "        })\n",
    "\n",
    "# Step 3: Create DataFrame\n",
    "train_df = pd.DataFrame(records)\n",
    "\n",
    "# Display to confirm\n",
    "print(train_df.head())\n"
   ]
  },
  {
   "cell_type": "code",
   "execution_count": 25,
   "metadata": {},
   "outputs": [],
   "source": [
    "train_df.to_csv(\n",
    "    './dataset/training.tsv', sep='\\t', index=False\n",
    ")"
   ]
  },
  {
   "cell_type": "code",
   "execution_count": 3,
   "metadata": {},
   "outputs": [
    {
     "name": "stdout",
     "output_type": "stream",
     "text": [
      "482934\n"
     ]
    }
   ],
   "source": [
    "import pandas as pd\n",
    "\n",
    "df = pd.read_csv('./dataset/training.tsv', sep='\\t')\n",
    "print(df['user_id'].nunique())"
   ]
  },
  {
   "cell_type": "code",
   "execution_count": 4,
   "metadata": {},
   "outputs": [
    {
     "name": "stdout",
     "output_type": "stream",
     "text": [
      "60367\n"
     ]
    }
   ],
   "source": [
    "import pandas as pd\n",
    "\n",
    "df = pd.read_csv('./dataset/validation.tsv', sep='\\t')\n",
    "print(df['user_id'].nunique())"
   ]
  },
  {
   "cell_type": "code",
   "execution_count": 5,
   "metadata": {},
   "outputs": [
    {
     "name": "stdout",
     "output_type": "stream",
     "text": [
      "60367\n"
     ]
    }
   ],
   "source": [
    "import pandas as pd\n",
    "\n",
    "df = pd.read_csv('./dataset/test.tsv', sep='\\t')\n",
    "print(df['user_id'].nunique())"
   ]
  },
  {
   "cell_type": "code",
   "execution_count": null,
   "metadata": {},
   "outputs": [],
   "source": []
  }
 ],
 "metadata": {
  "kernelspec": {
   "display_name": "ir_ass2",
   "language": "python",
   "name": "python3"
  },
  "language_info": {
   "codemirror_mode": {
    "name": "ipython",
    "version": 3
   },
   "file_extension": ".py",
   "mimetype": "text/x-python",
   "name": "python",
   "nbconvert_exporter": "python",
   "pygments_lexer": "ipython3",
   "version": "3.10.16"
  },
  "orig_nbformat": 4
 },
 "nbformat": 4,
 "nbformat_minor": 2
}
